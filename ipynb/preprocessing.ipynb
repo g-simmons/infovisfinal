{
 "cells": [
  {
   "cell_type": "code",
   "execution_count": 2,
   "metadata": {},
   "outputs": [],
   "source": [
    "import pandas as pd\n",
    "import numpy as np\n",
    "\n",
    "from sklearn.decomposition import PCA\n",
    "from sklearn.manifold import TSNE\n",
    "\n",
    "import matplotlib.pyplot as plt"
   ]
  },
  {
   "cell_type": "markdown",
   "metadata": {},
   "source": [
    "### Load the data "
   ]
  },
  {
   "cell_type": "code",
   "execution_count": 3,
   "metadata": {},
   "outputs": [],
   "source": [
    "foods = pd.read_csv('../data/foodb_2017_06_29_csv/foods.csv',encoding='ANSI')\n",
    "foods = foods.rename(columns={'name':'food_name','id':'food_id'})\n",
    "# fix duplicate category\n",
    "foods.food_group = foods.food_group.replace('Herbs and spices','Herbs and Spices')"
   ]
  },
  {
   "cell_type": "code",
   "execution_count": 1,
   "metadata": {},
   "outputs": [],
   "source": [
    "contents_orig = pd.read_csv('../data/foodb_2017_06_29_csv/contents.csv',encoding='ANSI',error_bad_lines=False)\n",
    "contents_keep_cols = ['orig_food_common_name','orig_food_id','orig_source_id','orig_source_name','source_type','standard_content']"
   ]
  },
  {
   "cell_type": "code",
   "execution_count": 11,
   "metadata": {},
   "outputs": [
    {
     "name": "stderr",
     "output_type": "stream",
     "text": [
      "C:\\Users\\Gabriel\\AppData\\Local\\conda\\conda\\envs\\DairyML\\lib\\site-packages\\IPython\\core\\interactiveshell.py:3020: DtypeWarning: Columns (13,14,17,45,50,51,54,55,62,63,64,65,66,67,68,69,88) have mixed types. Specify dtype option on import or set low_memory=False.\n",
      "  interactivity=interactivity, compiler=compiler, result=result)\n"
     ]
    }
   ],
   "source": [
    "compounds_orig = pd.read_csv('../data/foodb_2017_06_29_csv/compounds.csv',encoding='ANSI')\n",
    "compounds_orig = compounds_orig.rename(columns={'name':'chem_name'})"
   ]
  },
  {
   "cell_type": "code",
   "execution_count": 12,
   "metadata": {},
   "outputs": [],
   "source": [
    "nutrients_orig = pd.read_csv('../data/foodb_2017_06_29_csv/nutrients.csv')"
   ]
  },
  {
   "cell_type": "markdown",
   "metadata": {},
   "source": [
    "### Sanity checks\n",
    "Check to make sure that all food ids in contents are in foods table"
   ]
  },
  {
   "cell_type": "code",
   "execution_count": 13,
   "metadata": {},
   "outputs": [
    {
     "data": {
      "text/plain": [
       "1.0"
      ]
     },
     "execution_count": 13,
     "metadata": {},
     "output_type": "execute_result"
    }
   ],
   "source": [
    "sum(contents_orig.food_id.isin(foods.food_id))/len(contents_orig.food_id)"
   ]
  },
  {
   "cell_type": "markdown",
   "metadata": {},
   "source": [
    "### Subset the contents table"
   ]
  },
  {
   "cell_type": "markdown",
   "metadata": {},
   "source": [
    "Separate by source_type: nutrients vs compounds"
   ]
  },
  {
   "cell_type": "code",
   "execution_count": 14,
   "metadata": {},
   "outputs": [],
   "source": [
    "contents_orig_nutrients = contents_orig[contents_orig['source_type']=='Nutrient']\n",
    "contents_orig_compounds = contents_orig[contents_orig['source_type']=='Compound']"
   ]
  },
  {
   "cell_type": "markdown",
   "metadata": {},
   "source": [
    "Add chemical hierarchy information to contents_orig_compounds"
   ]
  },
  {
   "cell_type": "code",
   "execution_count": 15,
   "metadata": {},
   "outputs": [],
   "source": [
    "class_cols = ['superklass','klass','subklass']\n",
    "compounds_class = compounds_orig[['chem_name','id']+class_cols]\n",
    "compounds_class = compounds_class.rename(columns={'id':'source_id'})\n",
    "contents_orig_compounds = contents_orig_compounds.merge(compounds_class,on='source_id',how='left')"
   ]
  },
  {
   "cell_type": "markdown",
   "metadata": {},
   "source": [
    "### Construct crosstables for foods and nutrients"
   ]
  },
  {
   "cell_type": "markdown",
   "metadata": {},
   "source": [
    "There are multiple entries for one pair of common name and source name, if a food has multiple parts (ie leaf, bulb, stem, etc.). For now just take the average"
   ]
  },
  {
   "cell_type": "code",
   "execution_count": 63,
   "metadata": {},
   "outputs": [],
   "source": [
    "contents_nutrients_ct = pd.crosstab(index=contents_orig_nutrients['food_id'],columns=contents_orig_nutrients['orig_source_name'],values=contents_orig['standard_content'],aggfunc='mean')\n",
    "contents_compounds_ct = pd.crosstab(index=contents_orig_compounds['food_id'],columns=contents_orig_compounds['subklass'],values=contents_orig['standard_content'],aggfunc='sum')"
   ]
  },
  {
   "cell_type": "markdown",
   "metadata": {},
   "source": [
    "### Get the chemical class hierarchy"
   ]
  },
  {
   "cell_type": "code",
   "execution_count": 65,
   "metadata": {},
   "outputs": [],
   "source": [
    "klassl2 = compounds_orig[['subklass','klass']].drop_duplicates().dropna(how='all').rename(columns={'subklass':'name','klass':'parent'})\n",
    "klassl1 = compounds_orig[['klass','superklass']].drop_duplicates().dropna(how='all').rename(columns={'klass':'name','superklass':'parent'})\n",
    "klassl0 = compounds_orig[['superklass']].drop_duplicates().dropna(how='all').rename(columns={'superklass':'name'})\n",
    "klassl0['parent'] = 'Total Compounds'"
   ]
  },
  {
   "cell_type": "code",
   "execution_count": 66,
   "metadata": {},
   "outputs": [],
   "source": [
    "objs = [klassl2,klassl1,klassl0]\n",
    "klassinfo = pd.concat(objs,axis=0)\n",
    "# klassinfo\n",
    "klassinfo = klassinfo.append({'name':'Total Compounds','parent':''},ignore_index=True)"
   ]
  },
  {
   "cell_type": "code",
   "execution_count": 96,
   "metadata": {},
   "outputs": [],
   "source": [
    "klassinfo.replace(np.nan,\"Other\").to_csv('../data/klassinfo.csv')"
   ]
  },
  {
   "cell_type": "markdown",
   "metadata": {},
   "source": [
    "### Remove or aggregate duplicate columns"
   ]
  },
  {
   "cell_type": "markdown",
   "metadata": {},
   "source": [
    "#### Nutrients"
   ]
  },
  {
   "cell_type": "markdown",
   "metadata": {},
   "source": [
    "##### Fiber"
   ]
  },
  {
   "cell_type": "code",
   "execution_count": 68,
   "metadata": {},
   "outputs": [
    {
     "data": {
      "text/html": [
       "<div>\n",
       "<style scoped>\n",
       "    .dataframe tbody tr th:only-of-type {\n",
       "        vertical-align: middle;\n",
       "    }\n",
       "\n",
       "    .dataframe tbody tr th {\n",
       "        vertical-align: top;\n",
       "    }\n",
       "\n",
       "    .dataframe thead th {\n",
       "        text-align: right;\n",
       "    }\n",
       "</style>\n",
       "<table border=\"1\" class=\"dataframe\">\n",
       "  <thead>\n",
       "    <tr style=\"text-align: right;\">\n",
       "      <th>orig_source_name</th>\n",
       "      <th>Fiber, dietary</th>\n",
       "      <th>Fiber, total dietary</th>\n",
       "      <th>Fiber, total dietary (AOAC)</th>\n",
       "    </tr>\n",
       "    <tr>\n",
       "      <th>food_id</th>\n",
       "      <th></th>\n",
       "      <th></th>\n",
       "      <th></th>\n",
       "    </tr>\n",
       "  </thead>\n",
       "  <tbody>\n",
       "    <tr>\n",
       "      <th>489</th>\n",
       "      <td>NaN</td>\n",
       "      <td>7300.000000</td>\n",
       "      <td>NaN</td>\n",
       "    </tr>\n",
       "    <tr>\n",
       "      <th>156</th>\n",
       "      <td>1050.000000</td>\n",
       "      <td>4300.000000</td>\n",
       "      <td>0.0</td>\n",
       "    </tr>\n",
       "    <tr>\n",
       "      <th>610</th>\n",
       "      <td>666.666667</td>\n",
       "      <td>NaN</td>\n",
       "      <td>0.0</td>\n",
       "    </tr>\n",
       "    <tr>\n",
       "      <th>803</th>\n",
       "      <td>NaN</td>\n",
       "      <td>1900.000000</td>\n",
       "      <td>NaN</td>\n",
       "    </tr>\n",
       "    <tr>\n",
       "      <th>387</th>\n",
       "      <td>NaN</td>\n",
       "      <td>1300.000000</td>\n",
       "      <td>NaN</td>\n",
       "    </tr>\n",
       "    <tr>\n",
       "      <th>12</th>\n",
       "      <td>966.666667</td>\n",
       "      <td>807.692308</td>\n",
       "      <td>0.0</td>\n",
       "    </tr>\n",
       "    <tr>\n",
       "      <th>160</th>\n",
       "      <td>2428.571429</td>\n",
       "      <td>4428.571429</td>\n",
       "      <td>0.0</td>\n",
       "    </tr>\n",
       "    <tr>\n",
       "      <th>35</th>\n",
       "      <td>1200.000000</td>\n",
       "      <td>3100.000000</td>\n",
       "      <td>0.0</td>\n",
       "    </tr>\n",
       "    <tr>\n",
       "      <th>522</th>\n",
       "      <td>NaN</td>\n",
       "      <td>0.000000</td>\n",
       "      <td>NaN</td>\n",
       "    </tr>\n",
       "    <tr>\n",
       "      <th>27</th>\n",
       "      <td>NaN</td>\n",
       "      <td>2757.142857</td>\n",
       "      <td>NaN</td>\n",
       "    </tr>\n",
       "  </tbody>\n",
       "</table>\n",
       "</div>"
      ],
      "text/plain": [
       "orig_source_name  Fiber, dietary  Fiber, total dietary  \\\n",
       "food_id                                                  \n",
       "489                          NaN           7300.000000   \n",
       "156                  1050.000000           4300.000000   \n",
       "610                   666.666667                   NaN   \n",
       "803                          NaN           1900.000000   \n",
       "387                          NaN           1300.000000   \n",
       "12                    966.666667            807.692308   \n",
       "160                  2428.571429           4428.571429   \n",
       "35                   1200.000000           3100.000000   \n",
       "522                          NaN              0.000000   \n",
       "27                           NaN           2757.142857   \n",
       "\n",
       "orig_source_name  Fiber, total dietary (AOAC)  \n",
       "food_id                                        \n",
       "489                                       NaN  \n",
       "156                                       0.0  \n",
       "610                                       0.0  \n",
       "803                                       NaN  \n",
       "387                                       NaN  \n",
       "12                                        0.0  \n",
       "160                                       0.0  \n",
       "35                                        0.0  \n",
       "522                                       NaN  \n",
       "27                                        NaN  "
      ]
     },
     "execution_count": 68,
     "metadata": {},
     "output_type": "execute_result"
    }
   ],
   "source": [
    "fiber_cols = [col for col in contents_nutrients_ct.columns if 'Fiber' in col]\n",
    "\n",
    "contents_nutrients_ct[fiber_cols].sample(10)"
   ]
  },
  {
   "cell_type": "markdown",
   "metadata": {},
   "source": [
    "`Fiber, total dietary (AOAC)` looks like mostly NaN's and zeros, so we can remove this"
   ]
  },
  {
   "cell_type": "code",
   "execution_count": 69,
   "metadata": {},
   "outputs": [],
   "source": [
    "contents_nutrients_ct = contents_nutrients_ct.drop('Fiber, total dietary (AOAC)',axis=1)"
   ]
  },
  {
   "cell_type": "markdown",
   "metadata": {},
   "source": [
    "The other two columns look like they agree in cases where they both contain data. If the columns both have data, we take the average, if only one has data we use this value, if neither column has data we leave the value as NaN"
   ]
  },
  {
   "cell_type": "code",
   "execution_count": 70,
   "metadata": {},
   "outputs": [],
   "source": [
    "fiber_d = (~contents_nutrients_ct['Fiber, dietary'].isna())\n",
    "fiber_td = (~contents_nutrients_ct['Fiber, total dietary'].isna())\n",
    "both = fiber_d & fiber_td\n",
    "contents_nutrients_ct.loc[both,'Fiber'] = contents_nutrients_ct.loc[both,['Fiber, dietary','Fiber, total dietary']].mean(axis=1)\n",
    "contents_nutrients_ct.loc[fiber_d & ~both,'Fiber'] = contents_nutrients_ct.loc[fiber_d & ~both,'Fiber, dietary']\n",
    "contents_nutrients_ct.loc[fiber_td & ~both,'Fiber'] = contents_nutrients_ct.loc[fiber_td & ~both,'Fiber, total dietary']"
   ]
  },
  {
   "cell_type": "markdown",
   "metadata": {},
   "source": [
    "How complete is the final fiber column after this?"
   ]
  },
  {
   "cell_type": "code",
   "execution_count": 71,
   "metadata": {},
   "outputs": [
    {
     "data": {
      "text/plain": [
       "0.8946015424164524"
      ]
     },
     "execution_count": 71,
     "metadata": {},
     "output_type": "execute_result"
    }
   ],
   "source": [
    "sum((~contents_nutrients_ct['Fiber'].isna()))/len(contents_nutrients_ct['Fiber'])"
   ]
  },
  {
   "cell_type": "markdown",
   "metadata": {},
   "source": [
    "Drop the old columns"
   ]
  },
  {
   "cell_type": "code",
   "execution_count": 72,
   "metadata": {},
   "outputs": [],
   "source": [
    "contents_nutrients_ct = contents_nutrients_ct.drop(['Fiber, dietary','Fiber, total dietary'],axis=1)"
   ]
  },
  {
   "cell_type": "markdown",
   "metadata": {},
   "source": [
    "##### Carbohydrates"
   ]
  },
  {
   "cell_type": "code",
   "execution_count": 73,
   "metadata": {},
   "outputs": [
    {
     "data": {
      "text/html": [
       "<div>\n",
       "<style scoped>\n",
       "    .dataframe tbody tr th:only-of-type {\n",
       "        vertical-align: middle;\n",
       "    }\n",
       "\n",
       "    .dataframe tbody tr th {\n",
       "        vertical-align: top;\n",
       "    }\n",
       "\n",
       "    .dataframe thead th {\n",
       "        text-align: right;\n",
       "    }\n",
       "</style>\n",
       "<table border=\"1\" class=\"dataframe\">\n",
       "  <thead>\n",
       "    <tr style=\"text-align: right;\">\n",
       "      <th>orig_source_name</th>\n",
       "      <th>CARBOHYDRATE</th>\n",
       "      <th>CARBOHYDRATES</th>\n",
       "      <th>CARBOHYDRATE|CARBOHYDRATES</th>\n",
       "      <th>Carbohydrate, by difference</th>\n",
       "      <th>Carbohydrates, total</th>\n",
       "      <th>Carbohydrates, total available</th>\n",
       "    </tr>\n",
       "    <tr>\n",
       "      <th>food_id</th>\n",
       "      <th></th>\n",
       "      <th></th>\n",
       "      <th></th>\n",
       "      <th></th>\n",
       "      <th></th>\n",
       "      <th></th>\n",
       "    </tr>\n",
       "  </thead>\n",
       "  <tbody>\n",
       "    <tr>\n",
       "      <th>608</th>\n",
       "      <td>NaN</td>\n",
       "      <td>NaN</td>\n",
       "      <td>NaN</td>\n",
       "      <td>NaN</td>\n",
       "      <td>23000.0</td>\n",
       "      <td>17100.000000</td>\n",
       "    </tr>\n",
       "    <tr>\n",
       "      <th>275</th>\n",
       "      <td>NaN</td>\n",
       "      <td>NaN</td>\n",
       "      <td>NaN</td>\n",
       "      <td>64241.388889</td>\n",
       "      <td>65850.0</td>\n",
       "      <td>62433.333333</td>\n",
       "    </tr>\n",
       "    <tr>\n",
       "      <th>97</th>\n",
       "      <td>NaN</td>\n",
       "      <td>NaN</td>\n",
       "      <td>NaN</td>\n",
       "      <td>74970.000000</td>\n",
       "      <td>NaN</td>\n",
       "      <td>NaN</td>\n",
       "    </tr>\n",
       "    <tr>\n",
       "      <th>743</th>\n",
       "      <td>NaN</td>\n",
       "      <td>NaN</td>\n",
       "      <td>NaN</td>\n",
       "      <td>15115.000000</td>\n",
       "      <td>NaN</td>\n",
       "      <td>NaN</td>\n",
       "    </tr>\n",
       "    <tr>\n",
       "      <th>789</th>\n",
       "      <td>NaN</td>\n",
       "      <td>NaN</td>\n",
       "      <td>NaN</td>\n",
       "      <td>33146.000000</td>\n",
       "      <td>NaN</td>\n",
       "      <td>NaN</td>\n",
       "    </tr>\n",
       "    <tr>\n",
       "      <th>48</th>\n",
       "      <td>NaN</td>\n",
       "      <td>28647.60</td>\n",
       "      <td>NaN</td>\n",
       "      <td>3350.000000</td>\n",
       "      <td>3350.0</td>\n",
       "      <td>1350.000000</td>\n",
       "    </tr>\n",
       "    <tr>\n",
       "      <th>328</th>\n",
       "      <td>NaN</td>\n",
       "      <td>56203.75</td>\n",
       "      <td>NaN</td>\n",
       "      <td>38060.000000</td>\n",
       "      <td>38100.0</td>\n",
       "      <td>36300.000000</td>\n",
       "    </tr>\n",
       "    <tr>\n",
       "      <th>381</th>\n",
       "      <td>NaN</td>\n",
       "      <td>NaN</td>\n",
       "      <td>NaN</td>\n",
       "      <td>14856.000000</td>\n",
       "      <td>29300.0</td>\n",
       "      <td>21100.000000</td>\n",
       "    </tr>\n",
       "    <tr>\n",
       "      <th>475</th>\n",
       "      <td>NaN</td>\n",
       "      <td>NaN</td>\n",
       "      <td>NaN</td>\n",
       "      <td>1325.000000</td>\n",
       "      <td>NaN</td>\n",
       "      <td>NaN</td>\n",
       "    </tr>\n",
       "    <tr>\n",
       "      <th>857</th>\n",
       "      <td>NaN</td>\n",
       "      <td>NaN</td>\n",
       "      <td>NaN</td>\n",
       "      <td>0.000000</td>\n",
       "      <td>NaN</td>\n",
       "      <td>NaN</td>\n",
       "    </tr>\n",
       "  </tbody>\n",
       "</table>\n",
       "</div>"
      ],
      "text/plain": [
       "orig_source_name  CARBOHYDRATE  CARBOHYDRATES  CARBOHYDRATE|CARBOHYDRATES  \\\n",
       "food_id                                                                     \n",
       "608                        NaN            NaN                         NaN   \n",
       "275                        NaN            NaN                         NaN   \n",
       "97                         NaN            NaN                         NaN   \n",
       "743                        NaN            NaN                         NaN   \n",
       "789                        NaN            NaN                         NaN   \n",
       "48                         NaN       28647.60                         NaN   \n",
       "328                        NaN       56203.75                         NaN   \n",
       "381                        NaN            NaN                         NaN   \n",
       "475                        NaN            NaN                         NaN   \n",
       "857                        NaN            NaN                         NaN   \n",
       "\n",
       "orig_source_name  Carbohydrate, by difference  Carbohydrates, total  \\\n",
       "food_id                                                               \n",
       "608                                       NaN               23000.0   \n",
       "275                              64241.388889               65850.0   \n",
       "97                               74970.000000                   NaN   \n",
       "743                              15115.000000                   NaN   \n",
       "789                              33146.000000                   NaN   \n",
       "48                                3350.000000                3350.0   \n",
       "328                              38060.000000               38100.0   \n",
       "381                              14856.000000               29300.0   \n",
       "475                               1325.000000                   NaN   \n",
       "857                                  0.000000                   NaN   \n",
       "\n",
       "orig_source_name  Carbohydrates, total available  \n",
       "food_id                                           \n",
       "608                                 17100.000000  \n",
       "275                                 62433.333333  \n",
       "97                                           NaN  \n",
       "743                                          NaN  \n",
       "789                                          NaN  \n",
       "48                                   1350.000000  \n",
       "328                                 36300.000000  \n",
       "381                                 21100.000000  \n",
       "475                                          NaN  \n",
       "857                                          NaN  "
      ]
     },
     "execution_count": 73,
     "metadata": {},
     "output_type": "execute_result"
    }
   ],
   "source": [
    "carb_cols = [col for col in contents_nutrients_ct.columns if 'carb' in col or 'CARB' in col or 'Carb' in col]\n",
    "\n",
    "contents_nutrients_ct[carb_cols].sample(10)"
   ]
  },
  {
   "cell_type": "markdown",
   "metadata": {},
   "source": [
    "Carb by difference seems like an outdated measurement technique [see here](https://www.encyclopedia.com/education/dictionaries-thesauruses-pictures-and-press-releases/carbohydrate-difference)\n",
    "\n",
    "> Carbohydrate by difference: Historically it was difficult to determine the various carbohydrates present in foods, and an approximation was often made by subtracting the measured protein, fat, ash, and water from the total weight. Carbohydrate by difference is the sum of: nutritionally available carbohydrates (dextrins, starches, and sugars); nutritionally unavailable carbohydrate (pentosans, pectins, hemicelluloses, and cellulose) and non‐carbohydrates such as organic acids and lignins.\n",
    "\n",
    "However, it looks like the most populated column. \n",
    "\n",
    "Total available describes only carbs that are metabolically available, so this is conceptually different from carbs in total. \n",
    "\n",
    "`CARBOHYDRATE`\t`CARBOHYDRATES`\t`CARBOHYDRATE|CARBOHYDRATES`\tare all probably the same thing.\n",
    "\n",
    "\n",
    "You would think that these would be mapped to different things in the `nutrients` file, but they're all just mapped to \"Carbohydrate\"\n",
    "\n",
    "I'm just going to take the mean for now, ignoring NaN's and come back and do some more thoughtful cleaning if I have time"
   ]
  },
  {
   "cell_type": "code",
   "execution_count": 74,
   "metadata": {},
   "outputs": [],
   "source": [
    "contents_nutrients_ct.loc[:,'Carbohydrates'] = contents_nutrients_ct.loc[:,carb_cols].mean(axis=1,skipna=True)\n",
    "contents_nutrients_ct = contents_nutrients_ct.drop(carb_cols,axis=1)"
   ]
  },
  {
   "cell_type": "markdown",
   "metadata": {},
   "source": [
    "Check completeness"
   ]
  },
  {
   "cell_type": "code",
   "execution_count": 75,
   "metadata": {},
   "outputs": [
    {
     "data": {
      "text/plain": [
       "0.993573264781491"
      ]
     },
     "execution_count": 75,
     "metadata": {},
     "output_type": "execute_result"
    }
   ],
   "source": [
    "sum((~contents_nutrients_ct['Carbohydrates'].isna()))/len(contents_nutrients_ct['Carbohydrates'])"
   ]
  },
  {
   "cell_type": "markdown",
   "metadata": {},
   "source": [
    "##### Protein"
   ]
  },
  {
   "cell_type": "code",
   "execution_count": 76,
   "metadata": {},
   "outputs": [
    {
     "data": {
      "text/html": [
       "<div>\n",
       "<style scoped>\n",
       "    .dataframe tbody tr th:only-of-type {\n",
       "        vertical-align: middle;\n",
       "    }\n",
       "\n",
       "    .dataframe tbody tr th {\n",
       "        vertical-align: top;\n",
       "    }\n",
       "\n",
       "    .dataframe thead th {\n",
       "        text-align: right;\n",
       "    }\n",
       "</style>\n",
       "<table border=\"1\" class=\"dataframe\">\n",
       "  <thead>\n",
       "    <tr style=\"text-align: right;\">\n",
       "      <th>orig_source_name</th>\n",
       "      <th>Adjusted Protein</th>\n",
       "      <th>PROTEIN</th>\n",
       "      <th>PROTEIN|PROTEINS</th>\n",
       "      <th>Protein</th>\n",
       "      <th>Protein, total</th>\n",
       "      <th>Protein, total-N</th>\n",
       "    </tr>\n",
       "    <tr>\n",
       "      <th>food_id</th>\n",
       "      <th></th>\n",
       "      <th></th>\n",
       "      <th></th>\n",
       "      <th></th>\n",
       "      <th></th>\n",
       "      <th></th>\n",
       "    </tr>\n",
       "  </thead>\n",
       "  <tbody>\n",
       "    <tr>\n",
       "      <th>584</th>\n",
       "      <td>NaN</td>\n",
       "      <td>NaN</td>\n",
       "      <td>NaN</td>\n",
       "      <td>NaN</td>\n",
       "      <td>11000.000000</td>\n",
       "      <td>1800.000000</td>\n",
       "    </tr>\n",
       "    <tr>\n",
       "      <th>391</th>\n",
       "      <td>NaN</td>\n",
       "      <td>3150.0</td>\n",
       "      <td>NaN</td>\n",
       "      <td>720.000000</td>\n",
       "      <td>NaN</td>\n",
       "      <td>NaN</td>\n",
       "    </tr>\n",
       "    <tr>\n",
       "      <th>187</th>\n",
       "      <td>NaN</td>\n",
       "      <td>14800.0</td>\n",
       "      <td>NaN</td>\n",
       "      <td>12072.000000</td>\n",
       "      <td>NaN</td>\n",
       "      <td>NaN</td>\n",
       "    </tr>\n",
       "    <tr>\n",
       "      <th>753</th>\n",
       "      <td>NaN</td>\n",
       "      <td>NaN</td>\n",
       "      <td>NaN</td>\n",
       "      <td>7535.000000</td>\n",
       "      <td>NaN</td>\n",
       "      <td>NaN</td>\n",
       "    </tr>\n",
       "    <tr>\n",
       "      <th>61</th>\n",
       "      <td>NaN</td>\n",
       "      <td>13550.0</td>\n",
       "      <td>NaN</td>\n",
       "      <td>12143.333333</td>\n",
       "      <td>12133.333333</td>\n",
       "      <td>1933.333333</td>\n",
       "    </tr>\n",
       "    <tr>\n",
       "      <th>686</th>\n",
       "      <td>NaN</td>\n",
       "      <td>NaN</td>\n",
       "      <td>NaN</td>\n",
       "      <td>10808.571429</td>\n",
       "      <td>0.000000</td>\n",
       "      <td>0.000000</td>\n",
       "    </tr>\n",
       "    <tr>\n",
       "      <th>748</th>\n",
       "      <td>NaN</td>\n",
       "      <td>NaN</td>\n",
       "      <td>NaN</td>\n",
       "      <td>430.000000</td>\n",
       "      <td>NaN</td>\n",
       "      <td>NaN</td>\n",
       "    </tr>\n",
       "    <tr>\n",
       "      <th>590</th>\n",
       "      <td>NaN</td>\n",
       "      <td>NaN</td>\n",
       "      <td>NaN</td>\n",
       "      <td>NaN</td>\n",
       "      <td>17100.000000</td>\n",
       "      <td>2725.000000</td>\n",
       "    </tr>\n",
       "    <tr>\n",
       "      <th>410</th>\n",
       "      <td>NaN</td>\n",
       "      <td>2351.5</td>\n",
       "      <td>NaN</td>\n",
       "      <td>500.000000</td>\n",
       "      <td>NaN</td>\n",
       "      <td>NaN</td>\n",
       "    </tr>\n",
       "    <tr>\n",
       "      <th>419</th>\n",
       "      <td>NaN</td>\n",
       "      <td>NaN</td>\n",
       "      <td>NaN</td>\n",
       "      <td>25425.000000</td>\n",
       "      <td>NaN</td>\n",
       "      <td>NaN</td>\n",
       "    </tr>\n",
       "  </tbody>\n",
       "</table>\n",
       "</div>"
      ],
      "text/plain": [
       "orig_source_name  Adjusted Protein  PROTEIN  PROTEIN|PROTEINS       Protein  \\\n",
       "food_id                                                                       \n",
       "584                            NaN      NaN               NaN           NaN   \n",
       "391                            NaN   3150.0               NaN    720.000000   \n",
       "187                            NaN  14800.0               NaN  12072.000000   \n",
       "753                            NaN      NaN               NaN   7535.000000   \n",
       "61                             NaN  13550.0               NaN  12143.333333   \n",
       "686                            NaN      NaN               NaN  10808.571429   \n",
       "748                            NaN      NaN               NaN    430.000000   \n",
       "590                            NaN      NaN               NaN           NaN   \n",
       "410                            NaN   2351.5               NaN    500.000000   \n",
       "419                            NaN      NaN               NaN  25425.000000   \n",
       "\n",
       "orig_source_name  Protein, total  Protein, total-N  \n",
       "food_id                                             \n",
       "584                 11000.000000       1800.000000  \n",
       "391                          NaN               NaN  \n",
       "187                          NaN               NaN  \n",
       "753                          NaN               NaN  \n",
       "61                  12133.333333       1933.333333  \n",
       "686                     0.000000          0.000000  \n",
       "748                          NaN               NaN  \n",
       "590                 17100.000000       2725.000000  \n",
       "410                          NaN               NaN  \n",
       "419                          NaN               NaN  "
      ]
     },
     "execution_count": 76,
     "metadata": {},
     "output_type": "execute_result"
    }
   ],
   "source": [
    "prot_cols = [col for col in contents_nutrients_ct.columns if 'Protein' in col or 'PROTEIN' in col]\n",
    "\n",
    "contents_nutrients_ct[prot_cols].sample(10)"
   ]
  },
  {
   "cell_type": "markdown",
   "metadata": {},
   "source": [
    "In general, looks like \n",
    "- `PROTEIN` > `Protein` ~= `Protein, total` > `Protein, total-N`\n",
    "- `Adjusted Protein` and `PROTEIN|PROTEINS` are mostly NaNs. \n",
    "\n",
    "`Protein` looks like the most complete column, it has a normal-sounding name, and the values look like they're in the middle, so this column seems trustworthy. We'll use this values if it exists, otherwise replace with the mean of the other columns. ¯\\\\_(ツ)_/¯"
   ]
  },
  {
   "cell_type": "code",
   "execution_count": 77,
   "metadata": {},
   "outputs": [],
   "source": [
    "prot = ~contents_nutrients_ct['Protein'].isna()\n",
    "other_prot_cols = ['PROTEIN','Protein, total','Protein, total-N']"
   ]
  },
  {
   "cell_type": "code",
   "execution_count": 78,
   "metadata": {},
   "outputs": [],
   "source": [
    "contents_nutrients_ct.loc[~prot,'Protein'] = contents_nutrients_ct.loc[~prot,other_prot_cols].mean(axis=1,skipna=True)"
   ]
  },
  {
   "cell_type": "code",
   "execution_count": 79,
   "metadata": {},
   "outputs": [],
   "source": [
    "contents_nutrients_ct = contents_nutrients_ct.drop([col for col in prot_cols if col != 'Protein'],axis=1)"
   ]
  },
  {
   "cell_type": "markdown",
   "metadata": {},
   "source": [
    "Check for completeness"
   ]
  },
  {
   "cell_type": "code",
   "execution_count": 80,
   "metadata": {},
   "outputs": [
    {
     "data": {
      "text/plain": [
       "1.0"
      ]
     },
     "execution_count": 80,
     "metadata": {},
     "output_type": "execute_result"
    }
   ],
   "source": [
    "sum((~contents_nutrients_ct['Protein'].isna()))/len(contents_nutrients_ct['Protein'])"
   ]
  },
  {
   "cell_type": "markdown",
   "metadata": {},
   "source": [
    "##### Fat"
   ]
  },
  {
   "cell_type": "code",
   "execution_count": 81,
   "metadata": {},
   "outputs": [
    {
     "data": {
      "text/html": [
       "<div>\n",
       "<style scoped>\n",
       "    .dataframe tbody tr th:only-of-type {\n",
       "        vertical-align: middle;\n",
       "    }\n",
       "\n",
       "    .dataframe tbody tr th {\n",
       "        vertical-align: top;\n",
       "    }\n",
       "\n",
       "    .dataframe thead th {\n",
       "        text-align: right;\n",
       "    }\n",
       "</style>\n",
       "<table border=\"1\" class=\"dataframe\">\n",
       "  <thead>\n",
       "    <tr style=\"text-align: right;\">\n",
       "      <th>orig_source_name</th>\n",
       "      <th>FAT</th>\n",
       "      <th>Fat, total (Lipids)</th>\n",
       "      <th>Total lipid (fat)</th>\n",
       "    </tr>\n",
       "    <tr>\n",
       "      <th>food_id</th>\n",
       "      <th></th>\n",
       "      <th></th>\n",
       "      <th></th>\n",
       "    </tr>\n",
       "  </thead>\n",
       "  <tbody>\n",
       "    <tr>\n",
       "      <th>700</th>\n",
       "      <td>NaN</td>\n",
       "      <td>13800.000000</td>\n",
       "      <td>13810.000000</td>\n",
       "    </tr>\n",
       "    <tr>\n",
       "      <th>26</th>\n",
       "      <td>21825.0</td>\n",
       "      <td>NaN</td>\n",
       "      <td>773.333333</td>\n",
       "    </tr>\n",
       "    <tr>\n",
       "      <th>404</th>\n",
       "      <td>NaN</td>\n",
       "      <td>NaN</td>\n",
       "      <td>805.000000</td>\n",
       "    </tr>\n",
       "    <tr>\n",
       "      <th>524</th>\n",
       "      <td>NaN</td>\n",
       "      <td>600.000000</td>\n",
       "      <td>NaN</td>\n",
       "    </tr>\n",
       "    <tr>\n",
       "      <th>447</th>\n",
       "      <td>47500.0</td>\n",
       "      <td>NaN</td>\n",
       "      <td>41560.000000</td>\n",
       "    </tr>\n",
       "    <tr>\n",
       "      <th>375</th>\n",
       "      <td>NaN</td>\n",
       "      <td>15766.666667</td>\n",
       "      <td>15790.000000</td>\n",
       "    </tr>\n",
       "    <tr>\n",
       "      <th>402</th>\n",
       "      <td>NaN</td>\n",
       "      <td>200.000000</td>\n",
       "      <td>730.000000</td>\n",
       "    </tr>\n",
       "    <tr>\n",
       "      <th>621</th>\n",
       "      <td>NaN</td>\n",
       "      <td>4875.000000</td>\n",
       "      <td>5464.000000</td>\n",
       "    </tr>\n",
       "    <tr>\n",
       "      <th>646</th>\n",
       "      <td>NaN</td>\n",
       "      <td>0.000000</td>\n",
       "      <td>0.000000</td>\n",
       "    </tr>\n",
       "    <tr>\n",
       "      <th>52</th>\n",
       "      <td>21505.0</td>\n",
       "      <td>100.000000</td>\n",
       "      <td>23760.000000</td>\n",
       "    </tr>\n",
       "  </tbody>\n",
       "</table>\n",
       "</div>"
      ],
      "text/plain": [
       "orig_source_name      FAT  Fat, total (Lipids)  Total lipid (fat)\n",
       "food_id                                                          \n",
       "700                   NaN         13800.000000       13810.000000\n",
       "26                21825.0                  NaN         773.333333\n",
       "404                   NaN                  NaN         805.000000\n",
       "524                   NaN           600.000000                NaN\n",
       "447               47500.0                  NaN       41560.000000\n",
       "375                   NaN         15766.666667       15790.000000\n",
       "402                   NaN           200.000000         730.000000\n",
       "621                   NaN          4875.000000        5464.000000\n",
       "646                   NaN             0.000000           0.000000\n",
       "52                21505.0           100.000000       23760.000000"
      ]
     },
     "execution_count": 81,
     "metadata": {},
     "output_type": "execute_result"
    }
   ],
   "source": [
    "fat_cols = [col for col in contents_nutrients_ct.columns if 'fat' in col.lower()]\n",
    "\n",
    "contents_nutrients_ct[fat_cols].sample(10)"
   ]
  },
  {
   "cell_type": "markdown",
   "metadata": {},
   "source": [
    "I'm just going to take the mean"
   ]
  },
  {
   "cell_type": "code",
   "execution_count": 82,
   "metadata": {},
   "outputs": [],
   "source": [
    "contents_nutrients_ct['Fat'] = contents_nutrients_ct[fat_cols].mean(axis=1,skipna=True)"
   ]
  },
  {
   "cell_type": "code",
   "execution_count": 83,
   "metadata": {},
   "outputs": [],
   "source": [
    "contents_nutrients_ct =contents_nutrients_ct.drop(fat_cols,axis=1)"
   ]
  },
  {
   "cell_type": "markdown",
   "metadata": {},
   "source": [
    "Check for completeness"
   ]
  },
  {
   "cell_type": "code",
   "execution_count": 84,
   "metadata": {},
   "outputs": [
    {
     "data": {
      "text/plain": [
       "1.0"
      ]
     },
     "execution_count": 84,
     "metadata": {},
     "output_type": "execute_result"
    }
   ],
   "source": [
    "sum((~contents_nutrients_ct['Fat'].isna()))/len(contents_nutrients_ct['Fat'])"
   ]
  },
  {
   "cell_type": "markdown",
   "metadata": {},
   "source": [
    "### Merge the crosstables"
   ]
  },
  {
   "cell_type": "code",
   "execution_count": 85,
   "metadata": {},
   "outputs": [],
   "source": [
    "results = contents_nutrients_ct.merge(contents_compounds_ct,how='left',on='food_id')"
   ]
  },
  {
   "cell_type": "markdown",
   "metadata": {},
   "source": [
    "Drop rows without at least 10 nutrients"
   ]
  },
  {
   "cell_type": "code",
   "execution_count": 86,
   "metadata": {},
   "outputs": [],
   "source": [
    "data = results.dropna(axis=0,thresh=10)"
   ]
  },
  {
   "cell_type": "markdown",
   "metadata": {},
   "source": [
    "### Dimensionality reduction"
   ]
  },
  {
   "cell_type": "markdown",
   "metadata": {},
   "source": [
    "PCA dimensionality reduction"
   ]
  },
  {
   "cell_type": "code",
   "execution_count": 87,
   "metadata": {},
   "outputs": [],
   "source": [
    "# pca = PCA(n_components=2)\n",
    "# pca_results = pd.DataFrame(pca.fit_transform(data.replace(np.nan,0)),columns=['PC1','PC2'],index=data.index)\n",
    "\n",
    "# data = data.merge(pca_results,on='food_id')"
   ]
  },
  {
   "cell_type": "markdown",
   "metadata": {},
   "source": [
    "t-SNE"
   ]
  },
  {
   "cell_type": "code",
   "execution_count": 88,
   "metadata": {},
   "outputs": [],
   "source": [
    "tsne = TSNE(n_components=2)\n",
    "tsne_results = pd.DataFrame(tsne.fit_transform(data.replace(np.nan,0)),columns=['ax1','ax2'],index=data.index)\n",
    "\n",
    "data = data.merge(tsne_results,on='food_id')"
   ]
  },
  {
   "cell_type": "code",
   "execution_count": 89,
   "metadata": {},
   "outputs": [],
   "source": [
    "foods_final = foods.rename(columns={'id':'food_id'}).merge(data,on='food_id',how='inner')\n",
    "foods_final['food_group'] = pd.Categorical(foods_final['food_group'])\n",
    "foods_final['food_group_cat']= foods_final.food_group.cat.codes"
   ]
  },
  {
   "cell_type": "code",
   "execution_count": 90,
   "metadata": {},
   "outputs": [],
   "source": [
    "# foods_final = foods_final.loc[(foods_final['PC1'] < 0.5) & (abs(foods_final['PC2'])<1e6),:]"
   ]
  },
  {
   "cell_type": "code",
   "execution_count": 91,
   "metadata": {},
   "outputs": [
    {
     "data": {
      "image/png": "[encoded data removed]",
      "text/plain": [
       "<Figure size 432x288 with 1 Axes>"
      ]
     },
     "metadata": {
      "needs_background": "light"
     },
     "output_type": "display_data"
    }
   ],
   "source": [
    "f, axes = plt.subplots(1, 1)\n",
    "foods_final.plot.scatter('ax1','ax2',c=foods_final['food_group_cat'],ax=axes)\n",
    "axes.set_xlabel('AX1')\n",
    "axes.set_ylabel('AX2')\n",
    "axes.set_title('TSNE')\n",
    "plt.show()"
   ]
  },
  {
   "cell_type": "markdown",
   "metadata": {},
   "source": [
    "### Export results to csv"
   ]
  },
  {
   "cell_type": "code",
   "execution_count": 92,
   "metadata": {},
   "outputs": [],
   "source": [
    "foods_final.food_group = foods_final.food_group.replace('Herbs and spices','Herbs and Spices')"
   ]
  },
  {
   "cell_type": "code",
   "execution_count": 93,
   "metadata": {},
   "outputs": [],
   "source": [
    "foods_final.to_csv('../data/foods_final.csv')"
   ]
  }
 ],
 "metadata": {
  "kernelspec": {
   "display_name": "Python 3",
   "language": "python",
   "name": "python3"
  },
  "language_info": {
   "codemirror_mode": {
    "name": "ipython",
    "version": 3
   },
   "file_extension": ".py",
   "mimetype": "text/x-python",
   "name": "python",
   "nbconvert_exporter": "python",
   "pygments_lexer": "ipython3",
   "version": "3.6.7"
  }
 },
 "nbformat": 4,
 "nbformat_minor": 2
}
